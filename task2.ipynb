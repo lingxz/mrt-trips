{
 "cells": [
  {
   "cell_type": "code",
   "execution_count": 1,
   "metadata": {
    "collapsed": true
   },
   "outputs": [],
   "source": [
    "import pandas as pd\n",
    "import networkx as nx\n",
    "import numpy as np\n",
    "%matplotlib inline\n",
    "pd.options.mode.chained_assignment = None"
   ]
  },
  {
   "cell_type": "markdown",
   "metadata": {},
   "source": [
    "# Get and process actual MRT network"
   ]
  },
  {
   "cell_type": "code",
   "execution_count": 2,
   "metadata": {},
   "outputs": [
    {
     "data": {
      "text/html": [
       "<div>\n",
       "<style>\n",
       "    .dataframe thead tr:only-child th {\n",
       "        text-align: right;\n",
       "    }\n",
       "\n",
       "    .dataframe thead th {\n",
       "        text-align: left;\n",
       "    }\n",
       "\n",
       "    .dataframe tbody tr th {\n",
       "        vertical-align: top;\n",
       "    }\n",
       "</style>\n",
       "<table border=\"1\" class=\"dataframe\">\n",
       "  <thead>\n",
       "    <tr style=\"text-align: right;\">\n",
       "      <th></th>\n",
       "      <th>stn_code</th>\n",
       "      <th>mrt_station</th>\n",
       "      <th>mrt_line</th>\n",
       "    </tr>\n",
       "  </thead>\n",
       "  <tbody>\n",
       "    <tr>\n",
       "      <th>0</th>\n",
       "      <td>NS1</td>\n",
       "      <td>Jurong East</td>\n",
       "      <td>North South Line</td>\n",
       "    </tr>\n",
       "    <tr>\n",
       "      <th>1</th>\n",
       "      <td>NS2</td>\n",
       "      <td>Bukit Batok</td>\n",
       "      <td>North South Line</td>\n",
       "    </tr>\n",
       "    <tr>\n",
       "      <th>2</th>\n",
       "      <td>NS3</td>\n",
       "      <td>Bukit Gombak</td>\n",
       "      <td>North South Line</td>\n",
       "    </tr>\n",
       "    <tr>\n",
       "      <th>3</th>\n",
       "      <td>NS4</td>\n",
       "      <td>Choa Chu Kang</td>\n",
       "      <td>North South Line</td>\n",
       "    </tr>\n",
       "    <tr>\n",
       "      <th>4</th>\n",
       "      <td>NS5</td>\n",
       "      <td>Yew Tee</td>\n",
       "      <td>North South Line</td>\n",
       "    </tr>\n",
       "  </tbody>\n",
       "</table>\n",
       "</div>"
      ],
      "text/plain": [
       "  stn_code    mrt_station          mrt_line\n",
       "0      NS1    Jurong East  North South Line\n",
       "1      NS2    Bukit Batok  North South Line\n",
       "2      NS3   Bukit Gombak  North South Line\n",
       "3      NS4  Choa Chu Kang  North South Line\n",
       "4      NS5        Yew Tee  North South Line"
      ]
     },
     "execution_count": 2,
     "metadata": {},
     "output_type": "execute_result"
    }
   ],
   "source": [
    "stations = pd.read_csv('stations.csv')  # downloaded from https://data.gov.sg/dataset/train-station-chinese-names\n",
    "stations.drop(['mrt_station_chinese', 'mrt_line_chinese'], axis=1, inplace=True)\n",
    "stations.columns = ['stn_code', 'mrt_station', 'mrt_line']\n",
    "stations.head()"
   ]
  },
  {
   "cell_type": "code",
   "execution_count": 3,
   "metadata": {},
   "outputs": [],
   "source": [
    "from collections import defaultdict\n",
    "station2info = defaultdict(dict)\n",
    "for i, row in stations.iterrows():\n",
    "    if row.stn_code not in ['STC', 'PTC']:\n",
    "        stn_no = int(row.stn_code[2:])\n",
    "    else:\n",
    "        stn_no = 0\n",
    "    station2info[row.mrt_station][row.mrt_line] = stn_no"
   ]
  },
  {
   "cell_type": "markdown",
   "metadata": {},
   "source": [
    "# Process mrt trips"
   ]
  },
  {
   "cell_type": "code",
   "execution_count": 4,
   "metadata": {},
   "outputs": [
    {
     "data": {
      "text/html": [
       "<div>\n",
       "<style>\n",
       "    .dataframe thead tr:only-child th {\n",
       "        text-align: right;\n",
       "    }\n",
       "\n",
       "    .dataframe thead th {\n",
       "        text-align: left;\n",
       "    }\n",
       "\n",
       "    .dataframe tbody tr th {\n",
       "        vertical-align: top;\n",
       "    }\n",
       "</style>\n",
       "<table border=\"1\" class=\"dataframe\">\n",
       "  <thead>\n",
       "    <tr style=\"text-align: right;\">\n",
       "      <th></th>\n",
       "      <th>destination</th>\n",
       "      <th>destination_tm</th>\n",
       "      <th>origin</th>\n",
       "      <th>origin_tm</th>\n",
       "    </tr>\n",
       "    <tr>\n",
       "      <th>index</th>\n",
       "      <th></th>\n",
       "      <th></th>\n",
       "      <th></th>\n",
       "      <th></th>\n",
       "    </tr>\n",
       "  </thead>\n",
       "  <tbody>\n",
       "    <tr>\n",
       "      <th>0</th>\n",
       "      <td>Bugis</td>\n",
       "      <td>1900-01-01 10:04:47</td>\n",
       "      <td>Stevens</td>\n",
       "      <td>1900-01-01 09:52:23</td>\n",
       "    </tr>\n",
       "    <tr>\n",
       "      <th>1</th>\n",
       "      <td>Kent Ridge</td>\n",
       "      <td>1900-01-01 10:11:34</td>\n",
       "      <td>Sengkang</td>\n",
       "      <td>1900-01-01 09:27:41</td>\n",
       "    </tr>\n",
       "    <tr>\n",
       "      <th>2</th>\n",
       "      <td>Tai Seng</td>\n",
       "      <td>1900-01-01 09:35:59</td>\n",
       "      <td>Compassvale</td>\n",
       "      <td>1900-01-01 09:03:44</td>\n",
       "    </tr>\n",
       "    <tr>\n",
       "      <th>3</th>\n",
       "      <td>Labrador Park</td>\n",
       "      <td>1900-01-01 09:45:50</td>\n",
       "      <td>Bishan</td>\n",
       "      <td>1900-01-01 09:14:45</td>\n",
       "    </tr>\n",
       "    <tr>\n",
       "      <th>4</th>\n",
       "      <td>Joo Koon</td>\n",
       "      <td>1900-01-01 09:27:32</td>\n",
       "      <td>Boon Lay</td>\n",
       "      <td>1900-01-01 09:20:36</td>\n",
       "    </tr>\n",
       "  </tbody>\n",
       "</table>\n",
       "</div>"
      ],
      "text/plain": [
       "         destination      destination_tm       origin           origin_tm\n",
       "index                                                                    \n",
       "0              Bugis 1900-01-01 10:04:47      Stevens 1900-01-01 09:52:23\n",
       "1         Kent Ridge 1900-01-01 10:11:34     Sengkang 1900-01-01 09:27:41\n",
       "2           Tai Seng 1900-01-01 09:35:59  Compassvale 1900-01-01 09:03:44\n",
       "3      Labrador Park 1900-01-01 09:45:50       Bishan 1900-01-01 09:14:45\n",
       "4           Joo Koon 1900-01-01 09:27:32     Boon Lay 1900-01-01 09:20:36"
      ]
     },
     "execution_count": 4,
     "metadata": {},
     "output_type": "execute_result"
    }
   ],
   "source": [
    "trips = pd.read_csv('mrt_trips_sampled.csv', index_col='index')\n",
    "# remove things like NSEW or CCL at the end\n",
    "import re\n",
    "regex = r\"(\\s[A-Z]{2}[A-Z]*)\"\n",
    "pattern = re.compile(regex)\n",
    "def strip_line_name(x):\n",
    "    matches = pattern.findall(x)\n",
    "    if not matches:\n",
    "        return x.strip()\n",
    "    else:\n",
    "        return x.replace(matches[0], '').strip()\n",
    "\n",
    "trips.destination = trips.destination.apply(strip_line_name)\n",
    "trips.origin = trips.origin.apply(strip_line_name)\n",
    "trips['destination_tm'] = pd.to_datetime(trips.destination_tm, format='%H:%M:%S')\n",
    "trips['origin_tm'] = pd.to_datetime(trips.origin_tm, format='%H:%M:%S')\n",
    "trips = trips[trips.origin != trips.destination]\n",
    "trips.head()"
   ]
  },
  {
   "cell_type": "code",
   "execution_count": 5,
   "metadata": {},
   "outputs": [
    {
     "data": {
      "text/html": [
       "<div>\n",
       "<style>\n",
       "    .dataframe thead tr:only-child th {\n",
       "        text-align: right;\n",
       "    }\n",
       "\n",
       "    .dataframe thead th {\n",
       "        text-align: left;\n",
       "    }\n",
       "\n",
       "    .dataframe tbody tr th {\n",
       "        vertical-align: top;\n",
       "    }\n",
       "</style>\n",
       "<table border=\"1\" class=\"dataframe\">\n",
       "  <thead>\n",
       "    <tr style=\"text-align: right;\">\n",
       "      <th></th>\n",
       "      <th>destination</th>\n",
       "      <th>destination_tm</th>\n",
       "      <th>origin</th>\n",
       "      <th>origin_tm</th>\n",
       "      <th>mrt_lines</th>\n",
       "    </tr>\n",
       "    <tr>\n",
       "      <th>index</th>\n",
       "      <th></th>\n",
       "      <th></th>\n",
       "      <th></th>\n",
       "      <th></th>\n",
       "      <th></th>\n",
       "    </tr>\n",
       "  </thead>\n",
       "  <tbody>\n",
       "    <tr>\n",
       "      <th>0</th>\n",
       "      <td>Bugis</td>\n",
       "      <td>1900-01-01 10:04:47</td>\n",
       "      <td>Stevens</td>\n",
       "      <td>1900-01-01 09:52:23</td>\n",
       "      <td>Downtown Line</td>\n",
       "    </tr>\n",
       "    <tr>\n",
       "      <th>1</th>\n",
       "      <td>Kent Ridge</td>\n",
       "      <td>1900-01-01 10:11:34</td>\n",
       "      <td>Sengkang</td>\n",
       "      <td>1900-01-01 09:27:41</td>\n",
       "      <td></td>\n",
       "    </tr>\n",
       "    <tr>\n",
       "      <th>2</th>\n",
       "      <td>Tai Seng</td>\n",
       "      <td>1900-01-01 09:35:59</td>\n",
       "      <td>Compassvale</td>\n",
       "      <td>1900-01-01 09:03:44</td>\n",
       "      <td></td>\n",
       "    </tr>\n",
       "    <tr>\n",
       "      <th>3</th>\n",
       "      <td>Labrador Park</td>\n",
       "      <td>1900-01-01 09:45:50</td>\n",
       "      <td>Bishan</td>\n",
       "      <td>1900-01-01 09:14:45</td>\n",
       "      <td>Circle Line</td>\n",
       "    </tr>\n",
       "    <tr>\n",
       "      <th>4</th>\n",
       "      <td>Joo Koon</td>\n",
       "      <td>1900-01-01 09:27:32</td>\n",
       "      <td>Boon Lay</td>\n",
       "      <td>1900-01-01 09:20:36</td>\n",
       "      <td>East West Line</td>\n",
       "    </tr>\n",
       "  </tbody>\n",
       "</table>\n",
       "</div>"
      ],
      "text/plain": [
       "         destination      destination_tm       origin           origin_tm  \\\n",
       "index                                                                       \n",
       "0              Bugis 1900-01-01 10:04:47      Stevens 1900-01-01 09:52:23   \n",
       "1         Kent Ridge 1900-01-01 10:11:34     Sengkang 1900-01-01 09:27:41   \n",
       "2           Tai Seng 1900-01-01 09:35:59  Compassvale 1900-01-01 09:03:44   \n",
       "3      Labrador Park 1900-01-01 09:45:50       Bishan 1900-01-01 09:14:45   \n",
       "4           Joo Koon 1900-01-01 09:27:32     Boon Lay 1900-01-01 09:20:36   \n",
       "\n",
       "            mrt_lines  \n",
       "index                  \n",
       "0       Downtown Line  \n",
       "1                      \n",
       "2                      \n",
       "3         Circle Line  \n",
       "4      East West Line  "
      ]
     },
     "execution_count": 5,
     "metadata": {},
     "output_type": "execute_result"
    }
   ],
   "source": [
    "# add mrt_line information to each trip\n",
    "def get_mrt_lines(x):\n",
    "    lines_origin = set(station2info[x.origin].keys())\n",
    "    lines_dest = set(station2info[x.destination].keys())\n",
    "    intersecting = lines_origin.intersection(lines_dest)\n",
    "    return ''.join(list(intersecting))\n",
    "\n",
    "trips['mrt_lines'] = trips.apply(get_mrt_lines, axis=1)\n",
    "trips.head()"
   ]
  },
  {
   "cell_type": "markdown",
   "metadata": {},
   "source": [
    "# Detecting trains"
   ]
  },
  {
   "cell_type": "markdown",
   "metadata": {},
   "source": [
    "First, we assume the two stations are both on the same line, or it doesn't make sense (without a stretch of definition) to talk about how many trains travelled between them. There are some corrections needed, for example some trains go from CC to CE. So first we filter by lines that the station is on. "
   ]
  },
  {
   "cell_type": "code",
   "execution_count": 6,
   "metadata": {},
   "outputs": [],
   "source": [
    "def get_direction(start_stn, end_stn):\n",
    "    if end_stn > start_stn:\n",
    "        return 1\n",
    "    else:\n",
    "        return -1\n",
    "\n",
    "# spike detection using MAD: https://www.wikiwand.com/en/Median_absolute_deviation\n",
    "def relative_madness(x):\n",
    "    return abs(x[1] - np.median(x)) - np.median(abs( x - np.median(x)))\n",
    "\n",
    "def get_num_trains(start, end, line):\n",
    "    filtered = trips[trips.mrt_lines == line]\n",
    "    direction = get_direction(station2info[start][line], station2info[end][line])\n",
    "    filtered['origin_stn_no'] = filtered.origin.apply(lambda x: station2info[x][line])\n",
    "    filtered['destination_stn_no'] = filtered.destination.apply(lambda x: station2info[x][line])\n",
    "    filtered['direction'] = filtered.apply(lambda x: get_direction(x.origin_stn_no, x.destination_stn_no), axis=1)\n",
    "    filtered = (filtered[filtered.direction == direction]).drop(['direction'], axis=1)\n",
    "    most_freq_dest = filtered.destination.mode().values[0]\n",
    "    filtered = filtered[filtered.destination == most_freq_dest]\n",
    "    filtered = filtered[['origin', 'destination', 'origin_tm', 'destination_tm', 'origin_stn_no','destination_stn_no', 'mrt_lines']]\n",
    "    \n",
    "    # tap out is more indicative than tap in\n",
    "    ts = filtered.set_index('destination_tm').groupby(pd.Grouper(freq='30s')).agg('count')\n",
    "    ts = ts[['origin']]\n",
    "    ts.columns = ['trips_count']\n",
    "    ts.plot()\n",
    "    \n",
    "    # spike detection\n",
    "    ts['madness'] = ts.rolling(window=3, center=True).apply(relative_madness)\n",
    "    ts['spike'] = False\n",
    "    ts.loc[ts.madness > 2, 'spike'] = True\n",
    "    return ts.spike.sum()"
   ]
  },
  {
   "cell_type": "markdown",
   "metadata": {},
   "source": [
    "# Examples"
   ]
  },
  {
   "cell_type": "code",
   "execution_count": 7,
   "metadata": {},
   "outputs": [
    {
     "data": {
      "text/plain": [
       "24"
      ]
     },
     "execution_count": 7,
     "metadata": {},
     "output_type": "execute_result"
    },
    {
     "data": {
      "image/png": "[encoded data removed]",
      "text/plain": [
       "<matplotlib.figure.Figure at 0x17ec55d9470>"
      ]
     },
     "metadata": {},
     "output_type": "display_data"
    }
   ],
   "source": [
    "get_num_trains('Pioneer', 'Boon Lay', 'East West Line')"
   ]
  },
  {
   "cell_type": "code",
   "execution_count": 8,
   "metadata": {},
   "outputs": [
    {
     "data": {
      "text/plain": [
       "24"
      ]
     },
     "execution_count": 8,
     "metadata": {},
     "output_type": "execute_result"
    },
    {
     "data": {
      "image/png": "[encoded data removed]",
      "text/plain": [
       "<matplotlib.figure.Figure at 0x17ec56bb470>"
      ]
     },
     "metadata": {},
     "output_type": "display_data"
    }
   ],
   "source": [
    "get_num_trains('Boon Lay', 'Pasir Ris', 'East West Line')"
   ]
  },
  {
   "cell_type": "code",
   "execution_count": 9,
   "metadata": {},
   "outputs": [
    {
     "data": {
      "text/plain": [
       "33"
      ]
     },
     "execution_count": 9,
     "metadata": {},
     "output_type": "execute_result"
    },
    {
     "data": {
      "image/png": "[encoded data removed]",
      "text/plain": [
       "<matplotlib.figure.Figure at 0x17ec38d6588>"
      ]
     },
     "metadata": {},
     "output_type": "display_data"
    }
   ],
   "source": [
    "get_num_trains('Ang Mo Kio', 'Toa Payoh', 'North South Line')"
   ]
  }
 ],
 "metadata": {
  "kernelspec": {
   "display_name": "Python 3",
   "language": "python",
   "name": "python3"
  },
  "language_info": {
   "codemirror_mode": {
    "name": "ipython",
    "version": 3
   },
   "file_extension": ".py",
   "mimetype": "text/x-python",
   "name": "python",
   "nbconvert_exporter": "python",
   "pygments_lexer": "ipython3",
   "version": "3.6.2"
  }
 },
 "nbformat": 4,
 "nbformat_minor": 2
}
