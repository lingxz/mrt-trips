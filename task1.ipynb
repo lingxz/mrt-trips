{
 "cells": [
  {
   "cell_type": "code",
   "execution_count": 1,
   "metadata": {
    "collapsed": true
   },
   "outputs": [],
   "source": [
    "import numpy as np\n",
    "import pandas as pd\n",
    "import networkx as nx\n",
    "import matplotlib.pyplot as plt\n",
    "\n",
    "%matplotlib inline\n",
    "%config InlineBackend.rc = {'figure.dpi': 400, 'savefig.dpi': 300, \\\n",
    "                            'font.size': 12, \\\n",
    "                            'figure.facecolor': (1, 1, 1, 0)}"
   ]
  },
  {
   "cell_type": "code",
   "execution_count": 2,
   "metadata": {},
   "outputs": [
    {
     "data": {
      "text/html": [
       "<div>\n",
       "<style>\n",
       "    .dataframe thead tr:only-child th {\n",
       "        text-align: right;\n",
       "    }\n",
       "\n",
       "    .dataframe thead th {\n",
       "        text-align: left;\n",
       "    }\n",
       "\n",
       "    .dataframe tbody tr th {\n",
       "        vertical-align: top;\n",
       "    }\n",
       "</style>\n",
       "<table border=\"1\" class=\"dataframe\">\n",
       "  <thead>\n",
       "    <tr style=\"text-align: right;\">\n",
       "      <th></th>\n",
       "      <th>destination</th>\n",
       "      <th>destination_tm</th>\n",
       "      <th>origin</th>\n",
       "      <th>origin_tm</th>\n",
       "    </tr>\n",
       "    <tr>\n",
       "      <th>index</th>\n",
       "      <th></th>\n",
       "      <th></th>\n",
       "      <th></th>\n",
       "      <th></th>\n",
       "    </tr>\n",
       "  </thead>\n",
       "  <tbody>\n",
       "    <tr>\n",
       "      <th>0</th>\n",
       "      <td>Bugis DTL</td>\n",
       "      <td>10:04:47</td>\n",
       "      <td>Stevens</td>\n",
       "      <td>9:52:23</td>\n",
       "    </tr>\n",
       "    <tr>\n",
       "      <th>1</th>\n",
       "      <td>Kent Ridge</td>\n",
       "      <td>10:11:34</td>\n",
       "      <td>Sengkang</td>\n",
       "      <td>9:27:41</td>\n",
       "    </tr>\n",
       "    <tr>\n",
       "      <th>2</th>\n",
       "      <td>Tai Seng</td>\n",
       "      <td>9:35:59</td>\n",
       "      <td>Compassvale</td>\n",
       "      <td>9:03:44</td>\n",
       "    </tr>\n",
       "    <tr>\n",
       "      <th>3</th>\n",
       "      <td>Labrador Park</td>\n",
       "      <td>9:45:50</td>\n",
       "      <td>Bishan NSEW</td>\n",
       "      <td>9:14:45</td>\n",
       "    </tr>\n",
       "    <tr>\n",
       "      <th>4</th>\n",
       "      <td>Joo Koon</td>\n",
       "      <td>9:27:32</td>\n",
       "      <td>Boon Lay</td>\n",
       "      <td>9:20:36</td>\n",
       "    </tr>\n",
       "  </tbody>\n",
       "</table>\n",
       "</div>"
      ],
      "text/plain": [
       "         destination destination_tm       origin origin_tm\n",
       "index                                                     \n",
       "0          Bugis DTL       10:04:47      Stevens   9:52:23\n",
       "1         Kent Ridge       10:11:34     Sengkang   9:27:41\n",
       "2           Tai Seng        9:35:59  Compassvale   9:03:44\n",
       "3      Labrador Park        9:45:50  Bishan NSEW   9:14:45\n",
       "4           Joo Koon        9:27:32     Boon Lay   9:20:36"
      ]
     },
     "execution_count": 2,
     "metadata": {},
     "output_type": "execute_result"
    }
   ],
   "source": [
    "trips = pd.read_csv('mrt_trips_sampled.csv', index_col='index')\n",
    "trips.head()"
   ]
  },
  {
   "cell_type": "code",
   "execution_count": 3,
   "metadata": {},
   "outputs": [
    {
     "data": {
      "text/html": [
       "<div>\n",
       "<style>\n",
       "    .dataframe thead tr:only-child th {\n",
       "        text-align: right;\n",
       "    }\n",
       "\n",
       "    .dataframe thead th {\n",
       "        text-align: left;\n",
       "    }\n",
       "\n",
       "    .dataframe tbody tr th {\n",
       "        vertical-align: top;\n",
       "    }\n",
       "</style>\n",
       "<table border=\"1\" class=\"dataframe\">\n",
       "  <thead>\n",
       "    <tr style=\"text-align: right;\">\n",
       "      <th></th>\n",
       "      <th>destination</th>\n",
       "      <th>destination_tm</th>\n",
       "      <th>origin</th>\n",
       "      <th>origin_tm</th>\n",
       "    </tr>\n",
       "  </thead>\n",
       "  <tbody>\n",
       "    <tr>\n",
       "      <th>count</th>\n",
       "      <td>381249</td>\n",
       "      <td>381249</td>\n",
       "      <td>381249</td>\n",
       "      <td>381249</td>\n",
       "    </tr>\n",
       "    <tr>\n",
       "      <th>unique</th>\n",
       "      <td>153</td>\n",
       "      <td>7002</td>\n",
       "      <td>154</td>\n",
       "      <td>3600</td>\n",
       "    </tr>\n",
       "    <tr>\n",
       "      <th>top</th>\n",
       "      <td>Raffles Place</td>\n",
       "      <td>9:45:29</td>\n",
       "      <td>Ang Mo Kio</td>\n",
       "      <td>9:03:51</td>\n",
       "    </tr>\n",
       "    <tr>\n",
       "      <th>freq</th>\n",
       "      <td>22938</td>\n",
       "      <td>189</td>\n",
       "      <td>11898</td>\n",
       "      <td>213</td>\n",
       "    </tr>\n",
       "  </tbody>\n",
       "</table>\n",
       "</div>"
      ],
      "text/plain": [
       "          destination destination_tm      origin origin_tm\n",
       "count          381249         381249      381249    381249\n",
       "unique            153           7002         154      3600\n",
       "top     Raffles Place        9:45:29  Ang Mo Kio   9:03:51\n",
       "freq            22938            189       11898       213"
      ]
     },
     "execution_count": 3,
     "metadata": {},
     "output_type": "execute_result"
    }
   ],
   "source": [
    "trips.describe()"
   ]
  },
  {
   "cell_type": "code",
   "execution_count": 4,
   "metadata": {
    "collapsed": true
   },
   "outputs": [],
   "source": [
    "# remove things like NSEW or CCL at the end\n",
    "import re\n",
    "regex = r\"(\\s[A-Z]{2}[A-Z]*)\"\n",
    "pattern = re.compile(regex)\n",
    "def strip_line_name(x):\n",
    "    matches = pattern.findall(x)\n",
    "    if not matches:\n",
    "        return x.strip()\n",
    "    else:\n",
    "        return x.replace(matches[0], '').strip()\n",
    "\n",
    "trips.destination = trips.destination.apply(strip_line_name)\n",
    "trips.origin = trips.origin.apply(strip_line_name)\n",
    "\n",
    "# swap origin and destination if not sorted since we assume A-B takes the same time as B-A\n",
    "sorted_od = trips[['origin', 'destination']].apply(np.sort, axis=1)\n",
    "trips.origin = sorted_od.origin\n",
    "trips.destination = sorted_od.destination"
   ]
  },
  {
   "cell_type": "code",
   "execution_count": 5,
   "metadata": {},
   "outputs": [
    {
     "data": {
      "text/html": [
       "<div>\n",
       "<style>\n",
       "    .dataframe thead tr:only-child th {\n",
       "        text-align: right;\n",
       "    }\n",
       "\n",
       "    .dataframe thead th {\n",
       "        text-align: left;\n",
       "    }\n",
       "\n",
       "    .dataframe tbody tr th {\n",
       "        vertical-align: top;\n",
       "    }\n",
       "</style>\n",
       "<table border=\"1\" class=\"dataframe\">\n",
       "  <thead>\n",
       "    <tr style=\"text-align: right;\">\n",
       "      <th></th>\n",
       "      <th>destination</th>\n",
       "      <th>origin</th>\n",
       "      <th>duration</th>\n",
       "    </tr>\n",
       "    <tr>\n",
       "      <th>index</th>\n",
       "      <th></th>\n",
       "      <th></th>\n",
       "      <th></th>\n",
       "    </tr>\n",
       "  </thead>\n",
       "  <tbody>\n",
       "    <tr>\n",
       "      <th>0</th>\n",
       "      <td>Stevens</td>\n",
       "      <td>Bugis</td>\n",
       "      <td>744</td>\n",
       "    </tr>\n",
       "    <tr>\n",
       "      <th>1</th>\n",
       "      <td>Sengkang</td>\n",
       "      <td>Kent Ridge</td>\n",
       "      <td>2633</td>\n",
       "    </tr>\n",
       "    <tr>\n",
       "      <th>2</th>\n",
       "      <td>Tai Seng</td>\n",
       "      <td>Compassvale</td>\n",
       "      <td>1935</td>\n",
       "    </tr>\n",
       "    <tr>\n",
       "      <th>3</th>\n",
       "      <td>Labrador Park</td>\n",
       "      <td>Bishan</td>\n",
       "      <td>1865</td>\n",
       "    </tr>\n",
       "    <tr>\n",
       "      <th>4</th>\n",
       "      <td>Joo Koon</td>\n",
       "      <td>Boon Lay</td>\n",
       "      <td>416</td>\n",
       "    </tr>\n",
       "  </tbody>\n",
       "</table>\n",
       "</div>"
      ],
      "text/plain": [
       "         destination       origin  duration\n",
       "index                                      \n",
       "0            Stevens        Bugis       744\n",
       "1           Sengkang   Kent Ridge      2633\n",
       "2           Tai Seng  Compassvale      1935\n",
       "3      Labrador Park       Bishan      1865\n",
       "4           Joo Koon     Boon Lay       416"
      ]
     },
     "execution_count": 5,
     "metadata": {},
     "output_type": "execute_result"
    }
   ],
   "source": [
    "trips['destination_tm'] = pd.to_datetime(trips.destination_tm, format='%H:%M:%S')\n",
    "trips['origin_tm'] = pd.to_datetime(trips.origin_tm, format='%H:%M:%S')\n",
    "trips['duration'] = (trips.destination_tm - trips.origin_tm).dt.seconds\n",
    "trips.drop(['destination_tm', 'origin_tm'], axis=1, inplace=True)\n",
    "trips.head()"
   ]
  },
  {
   "cell_type": "code",
   "execution_count": 6,
   "metadata": {
    "collapsed": true
   },
   "outputs": [],
   "source": [
    "origin_dest = trips.groupby(['origin', 'destination']).agg({'duration': ['median', 'count']}).reset_index()\n",
    "origin_dest.columns = list(map(''.join, origin_dest.columns.values))  # flatten multiindex\n",
    "origin_dest.columns = ['origin', 'destination', 'duration', 'trips_count']\n",
    "trips = origin_dest[(origin_dest.duration < 2*3600) & (origin_dest.duration > 30.)]\n",
    "dropped = origin_dest[(origin_dest.trips_count <= 4) & (origin_dest.duration < 2*3600) & (origin_dest.duration > 30.)]\n",
    "trips = (trips[trips.origin != trips.destination]).sort_values(['duration', 'origin', 'destination']).drop(['trips_count'], axis=1).reset_index(drop=True)"
   ]
  },
  {
   "cell_type": "code",
   "execution_count": 7,
   "metadata": {
    "collapsed": true
   },
   "outputs": [],
   "source": [
    "# dropped[dropped.duration < 1000]"
   ]
  },
  {
   "cell_type": "code",
   "execution_count": 8,
   "metadata": {
    "collapsed": true
   },
   "outputs": [],
   "source": [
    "trips.duration = trips.duration - 60\n",
    "trips = (trips[trips.duration > 30.]).reset_index()"
   ]
  },
  {
   "cell_type": "code",
   "execution_count": 9,
   "metadata": {
    "collapsed": true
   },
   "outputs": [],
   "source": [
    "from collections import defaultdict\n",
    "cost = defaultdict(dict)\n",
    "stations = list(set(list(trips.destination.unique()) + list(trips.origin.unique())))\n",
    "for index, row in trips.iterrows():\n",
    "    cost[row.origin][row.destination] = row.duration\n",
    "    cost[row.destination][row.origin] = row.duration"
   ]
  },
  {
   "cell_type": "code",
   "execution_count": 10,
   "metadata": {},
   "outputs": [
    {
     "data": {
      "text/plain": [
       "142.0"
      ]
     },
     "execution_count": 10,
     "metadata": {},
     "output_type": "execute_result"
    }
   ],
   "source": [
    "# Mountbatten ['Dakota', 'Stadium', 'Nicoll Highway']\n",
    "cost['Mountbatten']['Dakota']"
   ]
  },
  {
   "cell_type": "code",
   "execution_count": 11,
   "metadata": {},
   "outputs": [
    {
     "data": {
      "text/plain": [
       "138"
      ]
     },
     "execution_count": 11,
     "metadata": {},
     "output_type": "execute_result"
    }
   ],
   "source": [
    "len(stations)"
   ]
  },
  {
   "cell_type": "code",
   "execution_count": 12,
   "metadata": {
    "collapsed": true
   },
   "outputs": [],
   "source": [
    "is_adjacent_flags = np.ones(len(trips.index))\n",
    "for index, row in trips.iterrows():\n",
    "    for station in stations:\n",
    "        if cost[row.origin].get(station, float('inf')) + cost[station].get(row.destination, float('inf')) < row.duration + 120:\n",
    "            is_adjacent_flags[index] = 0\n",
    "            break"
   ]
  },
  {
   "cell_type": "code",
   "execution_count": 13,
   "metadata": {
    "collapsed": true
   },
   "outputs": [],
   "source": [
    "new_trips = trips\n",
    "new_trips['adjacent'] = is_adjacent_flags\n",
    "graph = nx.from_pandas_dataframe(new_trips[new_trips.adjacent == 1], 'origin', 'destination')"
   ]
  },
  {
   "cell_type": "code",
   "execution_count": 14,
   "metadata": {},
   "outputs": [
    {
     "data": {
      "text/plain": [
       "521"
      ]
     },
     "execution_count": 14,
     "metadata": {},
     "output_type": "execute_result"
    }
   ],
   "source": [
    "len(graph.edges())"
   ]
  },
  {
   "cell_type": "code",
   "execution_count": 15,
   "metadata": {},
   "outputs": [
    {
     "data": {
      "text/plain": [
       "['Coral Edge', 'Yishun', 'Woodlands', 'Sembawang', 'Segar']"
      ]
     },
     "execution_count": 15,
     "metadata": {},
     "output_type": "execute_result"
    }
   ],
   "source": [
    "from collections import defaultdict\n",
    "adj_list = defaultdict(list)\n",
    "for edge in graph.edges():\n",
    "    adj_list[edge[0]].append(edge[1])\n",
    "    adj_list[edge[1]].append(edge[0])\n",
    "\n",
    "adj_list['Admiralty']"
   ]
  },
  {
   "cell_type": "code",
   "execution_count": 16,
   "metadata": {},
   "outputs": [
    {
     "data": {
      "text/plain": [
       "<matplotlib.axes._subplots.AxesSubplot at 0x1b795b251d0>"
      ]
     },
     "execution_count": 16,
     "metadata": {},
     "output_type": "execute_result"
    },
    {
     "data": {
      "image/png": "[encoded data removed]",
      "text/plain": [
       "<matplotlib.figure.Figure at 0x1b7a204acf8>"
      ]
     },
     "metadata": {},
     "output_type": "display_data"
    }
   ],
   "source": [
    "distances = [(cost['Admiralty'][stn], stn) for stn in adj_list['Admiralty']]\n",
    "distances.sort()\n",
    "d = np.array([x[0] for x in distances])\n",
    "x = np.array([x[1] for x in distances])\n",
    "pd.Series(d, index=x).plot(style='o-')"
   ]
  },
  {
   "cell_type": "code",
   "execution_count": 17,
   "metadata": {
    "collapsed": true
   },
   "outputs": [],
   "source": [
    "new_adj_list = adj_list.copy()\n",
    "for k, v in adj_list.items():\n",
    "    distances = [(cost[k][stn], stn) for stn in v]\n",
    "    distances.sort()\n",
    "    d = np.array([x[0] for x in distances])\n",
    "    steps = np.diff(d)\n",
    "    \n",
    "    break_index = None\n",
    "    for i, step in enumerate(steps):\n",
    "        if step > 3*60:\n",
    "            break_index = i+1\n",
    "            break\n",
    "    for i, dis in enumerate(d):\n",
    "        if dis > 20*60:  # remove if distance more than 20 minutes\n",
    "            if break_index:\n",
    "                break_index = min(break_index, i)\n",
    "            else:\n",
    "                break_index = i\n",
    "            break\n",
    "    if not break_index:\n",
    "        continue\n",
    "\n",
    "    distances = distances[:break_index]\n",
    "    stns = [x[1] for x in distances]\n",
    "    new_adj_list[k] = stns"
   ]
  },
  {
   "cell_type": "code",
   "execution_count": 18,
   "metadata": {},
   "outputs": [
    {
     "name": "stdout",
     "output_type": "stream",
     "text": [
      "Dakota ['Mountbatten', 'Paya Lebar', 'MacPherson']\n",
      "Mountbatten ['Dakota', 'Stadium', 'Nicoll Highway']\n",
      "Paya Lebar ['Eunos', 'Aljunied', 'MacPherson', 'Dakota', 'Kallang', 'Bartley', 'Lavender']\n",
      "MacPherson ['Tai Seng', 'Paya Lebar', 'Dakota']\n",
      "Soo Teck ['Cove']\n",
      "Kranji ['Marsiling', 'Yew Tee', 'Woodlands']\n",
      "Stadium ['Mountbatten', 'Nicoll Highway', 'Promenade']\n",
      "Nicoll Highway ['Promenade', 'Stadium', 'Mountbatten', 'Esplanade', 'Bayfront', 'Dhoby Ghaut', 'Marina Bay']\n",
      "Braddell ['Toa Payoh', 'Bishan']\n",
      "Cove ['Meridian']\n",
      "Meridian ['Cove', 'Coral Edge', 'Oasis']\n",
      "Punggol ['Damai', 'Sengkang', 'Sam Kee', 'Cove', 'Coral Edge']\n",
      "Kadaloor ['Oasis', 'Riviera', 'Damai', 'Coral Edge', 'Cove']\n",
      "Damai ['Oasis', 'Kadaloor', 'Punggol', 'Cove']\n",
      "Nibong ['Cove', 'Soo Teck', 'Punggol', 'Sengkang', 'Buangkok']\n",
      "Kovan ['Hougang', 'Serangoon', 'Woodleigh']\n",
      "Rochor ['Little India', 'Promenade', 'Bugis', 'Newton', 'Stevens', 'Bayfront', 'Downtown']\n",
      "Buona Vista ['Holland Village', 'one-north', 'Commonwealth', 'Dover', 'Queenstown', 'Clementi', 'Redhill']\n",
      "Labrador Park ['Telok Blangah']\n",
      "Coral Edge ['Riviera', 'Meridian', 'Kadaloor', 'Punggol']\n",
      "Oasis ['Damai', 'Kadaloor', 'Riviera', 'Meridian']\n",
      "Potong Pasir ['Woodleigh', 'Boon Keng', 'Farrer Park']\n",
      "Woodleigh ['Potong Pasir', 'Serangoon', 'Kovan']\n",
      "Boon Keng ['Farrer Park', 'Potong Pasir', 'Little India']\n",
      "Farrer Park ['Little India', 'Boon Keng', 'Potong Pasir', 'Dhoby Ghaut', 'Clarke Quay']\n",
      "Renjong ['Tongkang', 'Layar', 'Sengkang', 'Farmway']\n",
      "Kangkar ['Ranggung', 'Rumbia', 'Bakau', 'Compassvale']\n",
      "Serangoon ['Lorong Chuan', 'Bartley', 'Woodleigh', 'Kovan']\n",
      "Sengkang ['Buangkok', 'Cheng Lim', 'Punggol', 'Ranggung', 'Compassvale', 'Rumbia', 'Renjong', 'Tongkang', 'Bakau', 'Fernvale', 'Riviera', 'Woodleigh', 'Soo Teck', 'Nibong']\n",
      "HarbourFront ['Telok Blangah', 'Outram Park', 'Chinatown', 'Pasir Panjang', 'Clarke Quay']\n",
      "Pasir Ris ['Tampines', 'Simei']\n",
      "Downtown ['Telok Ayer', 'Bayfront', 'Chinatown', 'Promenade', 'Commonwealth', 'Rochor']\n",
      "Telok Ayer ['Downtown', 'Chinatown']\n",
      "Bayfront ['Downtown']\n",
      "Chinatown ['Outram Park', 'Clarke Quay', 'Telok Ayer', 'Downtown']\n",
      "Promenade ['Nicoll Highway', 'Esplanade', 'Rochor', 'Stadium', 'Bugis', 'Bayfront', 'Downtown', 'Bras Basah', 'Little India']\n",
      "Commonwealth ['Queenstown', 'Buona Vista', 'Dover', 'Redhill', 'Clementi', 'Downtown']\n",
      "Telok Blangah ['Labrador Park', 'HarbourFront', 'Haw Par Villa']\n",
      "Botanic Gardens ['Farrer Road', 'Holland Village', 'Caldecott', 'Stevens', 'Tan Kah Kee', 'Little India', 'Sixth Avenue', 'King Albert Park']\n",
      "Bras Basah ['Esplanade', 'Dhoby Ghaut', 'Promenade']\n",
      "Bukit Batok ['Bukit Gombak', 'Jurong East']\n",
      "Pioneer ['Boon Lay', 'Joo Koon']\n",
      "Kupang ['Farmway']\n",
      "Sixth Avenue ['Tan Kah Kee', 'King Albert Park']\n",
      "Tan Kah Kee ['Sixth Avenue', 'Stevens']\n",
      "King Albert Park ['Beauty World', 'Sixth Avenue']\n",
      "Cashew ['Hillview', 'Bukit Panjang']\n",
      "Marymount ['Caldecott', 'Bishan', 'Lorong Chuan']\n",
      "Yishun ['Khatib', 'Sembawang', 'Admiralty']\n",
      "Stevens ['Tan Kah Kee', 'Holland Village', 'Newton', 'Little India', 'Botanic Gardens', 'Rochor', 'Bugis']\n",
      "Farrer Road ['Holland Village', 'Botanic Gardens', 'Caldecott']\n",
      "one-north ['Kent Ridge', 'Buona Vista', 'Haw Par Villa']\n",
      "Cheng Lim ['Farmway', 'Sengkang']\n",
      "Farmway ['Cheng Lim', 'Kupang']\n",
      "Thanggam ['Tongkang', 'Cheng Lim']\n",
      "Rumbia ['Bakau', 'Compassvale', 'Kangkar', 'Sengkang', 'Ranggung', 'Cheng Lim']\n",
      "Fernvale ['Layar']\n",
      "Layar ['Tongkang', 'Fernvale', 'Renjong']\n",
      "Compassvale ['Rumbia', 'Sengkang', 'Bakau', 'Kangkar', 'Ranggung', 'Farmway', 'Layar']\n",
      "Yew Tee ['Choa Chu Kang', 'Kranji', 'Marsiling']\n",
      "Tongkang ['Layar', 'Renjong', 'Thanggam', 'Sengkang', 'Kupang']\n",
      "Haw Par Villa ['Pasir Panjang', 'Kent Ridge', 'one-north', 'Telok Blangah', 'Labrador Park']\n",
      "Pasir Panjang ['Haw Par Villa']\n",
      "Kent Ridge ['one-north', 'Haw Par Villa']\n",
      "Kallang ['Lavender', 'Aljunied', 'Bugis', 'Paya Lebar', 'City Hall']\n",
      "Chinese Garden ['Lakeside', 'Jurong East']\n",
      "Riviera ['Coral Edge', 'Kadaloor', 'Oasis']\n",
      "Admiralty ['Woodlands', 'Sembawang']\n",
      "Clarke Quay ['Chinatown', 'Dhoby Ghaut', 'Outram Park', 'Little India', 'Farrer Park', 'HarbourFront']\n",
      "Bugis ['Lavender', 'City Hall', 'Kallang', 'Rochor', 'Promenade', 'Raffles Place', 'Bayfront', 'Aljunied', 'Stevens', 'Tanjong Pagar', 'Newton', 'Boon Keng']\n",
      "Marina Bay ['Marina South Pier', 'Bayfront', 'Tanjong Pagar', 'Raffles Place', 'City Hall', 'Dhoby Ghaut', 'Nicoll Highway', 'Somerset']\n",
      "Little India ['Farrer Park', 'Dhoby Ghaut', 'Boon Keng', 'Newton', 'Rochor', 'Clarke Quay', 'Stevens', 'Chinatown', 'Promenade', 'Botanic Gardens', 'Bayfront', 'HarbourFront']\n",
      "Newton ['Orchard', 'Novena', 'Stevens', 'Little India', 'Rochor', 'Bugis']\n",
      "Lorong Chuan ['Serangoon', 'Bishan', 'Marymount']\n",
      "Beauty World ['King Albert Park', 'Hillview']\n",
      "Hillview ['Cashew', 'Beauty World', 'Bukit Panjang']\n",
      "Holland Village ['Buona Vista', 'Farrer Road', 'Botanic Gardens']\n",
      "Dover ['Clementi', 'Commonwealth', 'Buona Vista', 'Jurong East']\n",
      "Queenstown ['Commonwealth', 'Redhill', 'Buona Vista']\n",
      "Clementi ['Dover', 'Jurong East', 'Buona Vista', 'Commonwealth', 'Chinese Garden']\n",
      "Redhill ['Tiong Bahru', 'Queenstown', 'Commonwealth', 'Buona Vista']\n",
      "Jurong East ['Chinese Garden', 'Bukit Batok', 'Clementi', 'Bukit Gombak', 'Dover', 'Pioneer', 'Buona Vista']\n",
      "Aljunied ['Paya Lebar', 'Kallang', 'Eunos', 'Lavender', 'Bugis', 'City Hall']\n",
      "Keat Hong ['South View', 'Phoenix', 'Choa Chu Kang', 'Petir', 'Senja']\n",
      "City Hall ['Raffles Place', 'Bugis', 'Dhoby Ghaut', 'Somerset', 'Lavender', 'Kallang', 'Marina Bay', 'Aljunied']\n",
      "Orchard ['Somerset', 'Newton']\n",
      "Somerset ['Orchard', 'Dhoby Ghaut', 'City Hall']\n",
      "Dhoby Ghaut ['Somerset', 'Farrer Park', 'Little India', 'Nicoll Highway', 'Clarke Quay', 'City Hall', 'Esplanade', 'Bras Basah', 'Marina Bay', 'Marina South Pier']\n",
      "Expo ['Changi Airport', 'Tanah Merah']\n",
      "Joo Koon ['Pioneer', 'Boon Lay', 'Lakeside']\n",
      "Caldecott ['Marymount', 'Botanic Gardens', 'Farrer Road']\n",
      "Sumang ['Punggol']\n",
      "Bishan ['Braddell', 'Lorong Chuan', 'Marymount', 'Toa Payoh', 'Ang Mo Kio']\n",
      "Yio Chu Kang ['Ang Mo Kio']\n",
      "Toa Payoh ['Braddell', 'Novena', 'Bishan']\n",
      "Ang Mo Kio ['Yio Chu Kang', 'Bishan', 'Braddell']\n",
      "Tiong Bahru ['Redhill', 'Outram Park', 'Tanjong Pagar', 'Raffles Place']\n",
      "Novena ['Newton', 'Toa Payoh']\n",
      "Simei ['Tampines', 'Tanah Merah', 'Pasir Ris', 'Kembangan']\n",
      "Lakeside ['Chinese Garden', 'Boon Lay']\n",
      "Bartley ['Serangoon', 'Tai Seng']\n",
      "Tai Seng ['MacPherson', 'Bartley']\n",
      "Bukit Panjang ['Phoenix', 'Cashew', 'Hillview', 'Petir', 'Teck Whye', 'Senja', 'Jelapang', 'Pending', 'Bangkit', 'Segar', 'Fajar']\n",
      "Phoenix ['Teck Whye', 'Bukit Panjang', 'Keat Hong', 'Senja', 'Pending', 'Bangkit']\n",
      "Teck Whye ['Phoenix', 'South View', 'Bukit Panjang', 'Senja', 'Petir', 'Jelapang', 'Segar', 'Bangkit', 'Fajar']\n",
      "Senja ['Jelapang', 'Bukit Panjang', 'Segar', 'Phoenix', 'Teck Whye', 'Fajar', 'Keat Hong', 'Bangkit']\n",
      "Pending ['Petir', 'Bangkit', 'Fajar', 'Bukit Panjang', 'Phoenix', 'Segar', 'Jelapang']\n",
      "Bangkit ['Pending', 'Fajar', 'Petir', 'Segar', 'Bukit Panjang', 'Phoenix', 'Jelapang', 'Senja', 'Teck Whye']\n",
      "South View ['Choa Chu Kang', 'Keat Hong', 'Teck Whye']\n",
      "Petir ['Raffles Place', 'Pending', 'Bukit Panjang', 'Bangkit', 'Teck Whye', 'Keat Hong']\n",
      "Jelapang ['Senja', 'Segar', 'Bukit Panjang', 'Fajar', 'Teck Whye', 'Bangkit', 'Pending']\n",
      "Segar ['Fajar', 'Jelapang', 'Senja', 'Bangkit', 'Pending', 'Bukit Panjang', 'Teck Whye']\n",
      "Fajar ['Segar', 'Bangkit', 'Pending', 'Jelapang', 'Senja', 'Bukit Panjang', 'Teck Whye', 'Ten Mile Junction']\n",
      "Marina South Pier ['Marina Bay']\n",
      "Eunos ['Paya Lebar', 'Kembangan', 'Aljunied', 'Bedok']\n",
      "Kembangan ['Eunos', 'Bedok', 'Tanah Merah']\n",
      "Woodlands ['Admiralty', 'Marsiling', 'Kranji']\n",
      "Boon Lay ['Pioneer', 'Lakeside', 'Joo Koon']\n",
      "Marsiling ['Woodlands', 'Kranji']\n",
      "Outram Park ['Tanjong Pagar', 'Chinatown', 'Clarke Quay', 'Tiong Bahru', 'HarbourFront']\n",
      "Tanjong Pagar ['Outram Park', 'Raffles Place', 'Tiong Bahru', 'Marina Bay', 'Bugis', 'Lavender', 'Kallang', 'Aljunied']\n",
      "Raffles Place ['Petir', 'City Hall', 'Tanjong Pagar', 'Bugis', 'Marina Bay', 'Lavender', 'Tiong Bahru']\n",
      "Lavender ['Kallang', 'Bugis', 'City Hall', 'Aljunied', 'Raffles Place', 'South View', 'Paya Lebar', 'Tanjong Pagar', 'Eunos']\n",
      "Buangkok ['Hougang', 'Sengkang']\n",
      "Hougang ['Buangkok', 'Kovan']\n",
      "Changi Airport ['Expo']\n",
      "Choa Chu Kang ['South View', 'Yew Tee', 'Keat Hong', 'Bukit Gombak', 'Bukit Batok']\n",
      "Bukit Gombak ['Bukit Batok', 'Choa Chu Kang', 'Jurong East']\n",
      "Esplanade ['Promenade', 'Bras Basah', 'Dhoby Ghaut', 'Nicoll Highway']\n",
      "Ranggung ['Kangkar', 'Bakau', 'Sengkang', 'Rumbia', 'Compassvale']\n",
      "Bakau ['Sengkang', 'Rumbia', 'Ranggung', 'Kangkar', 'Compassvale']\n",
      "Bedok ['Tanah Merah', 'Kembangan', 'Eunos']\n",
      "Tanah Merah ['Bedok', 'Simei', 'Kembangan', 'Tampines', 'Expo']\n",
      "Sembawang ['Admiralty', 'Yishun']\n",
      "Khatib ['Yishun']\n",
      "Tampines ['Simei', 'Pasir Ris', 'Tanah Merah']\n",
      "Ten Mile Junction ['Fajar']\n",
      "Sam Kee ['Punggol']\n"
     ]
    }
   ],
   "source": [
    "for k, v in new_adj_list.items():\n",
    "    print(k, v)"
   ]
  },
  {
   "cell_type": "code",
   "execution_count": 19,
   "metadata": {
    "collapsed": true
   },
   "outputs": [],
   "source": [
    "g = nx.Graph()\n",
    "for k, v in new_adj_list.items():\n",
    "    for stn in v:\n",
    "        g.add_edge(k, stn)"
   ]
  },
  {
   "cell_type": "code",
   "execution_count": 20,
   "metadata": {},
   "outputs": [],
   "source": [
    "# remove loops with 3 stops\n",
    "for i in g.nodes():\n",
    "    for j in g.nodes():\n",
    "        for k in g.nodes():\n",
    "            if i == j or j == k or i == k:\n",
    "                continue\n",
    "            if not (g.has_edge(i, j) and g.has_edge(j, k), g.has_edge(i, k)):\n",
    "                continue\n",
    "            d = {0: (i, j), 1: (j, k), 2: (i, k)}\n",
    "            try:\n",
    "                costs = [cost[i][j], cost[j][k], cost[i][k]]\n",
    "            except KeyError:\n",
    "                continue\n",
    "            largest_index = np.argmax(costs)\n",
    "            edge1, edge2 = d[largest_index]\n",
    "            if g.has_edge(edge1, edge2):\n",
    "                g.remove_edge(edge1, edge2)"
   ]
  },
  {
   "cell_type": "code",
   "execution_count": 21,
   "metadata": {
    "collapsed": true
   },
   "outputs": [],
   "source": [
    "g = nx.convert_node_labels_to_integers(g, label_attribute='name')"
   ]
  },
  {
   "cell_type": "code",
   "execution_count": 22,
   "metadata": {
    "collapsed": true
   },
   "outputs": [],
   "source": [
    "from networkx.readwrite import json_graph\n",
    "import json\n",
    "data = json_graph.node_link_data(g)\n",
    "with open('mrt.json', 'w') as f:\n",
    "    json.dump(data, f, indent=2)"
   ]
  }
 ],
 "metadata": {
  "kernelspec": {
   "display_name": "Python 3",
   "language": "python",
   "name": "python3"
  },
  "language_info": {
   "codemirror_mode": {
    "name": "ipython",
    "version": 3
   },
   "file_extension": ".py",
   "mimetype": "text/x-python",
   "name": "python",
   "nbconvert_exporter": "python",
   "pygments_lexer": "ipython3",
   "version": "3.6.2"
  }
 },
 "nbformat": 4,
 "nbformat_minor": 2
}
